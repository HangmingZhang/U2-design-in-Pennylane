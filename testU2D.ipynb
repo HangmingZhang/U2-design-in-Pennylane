{
 "cells": [
  {
   "cell_type": "code",
   "execution_count": 1,
   "id": "51b009dd",
   "metadata": {},
   "outputs": [],
   "source": [
    "import pennylane as qml\n",
    "from pennylane import numpy as np\n",
    "import U2Design as U2D"
   ]
  },
  {
   "cell_type": "code",
   "execution_count": 2,
   "id": "71bb42a2",
   "metadata": {},
   "outputs": [],
   "source": [
    "n_qubits = 2\n",
    "dev = qml.device('default.mixed', wires=n_qubits)\n",
    "u2d = U2D.U2Desgin(n_qubits)\n",
    "measurements_str = \"IZ\""
   ]
  },
  {
   "cell_type": "code",
   "execution_count": 3,
   "id": "9ed0c2ea",
   "metadata": {},
   "outputs": [],
   "source": [
    "def test_cir0():\n",
    "    qml.RX(0.4, wires=1)\n",
    "    qml.RY(0.2, wires=1)\n",
    "    qml.RZ(0.3, wires=1)"
   ]
  },
  {
   "cell_type": "code",
   "execution_count": null,
   "id": "8d350ce2",
   "metadata": {},
   "outputs": [],
   "source": [
    "# To verify the correctness of our unitary 2-design code,\n",
    "# we will apply the unitary 2-design to the amplitude damping channel.\n",
    "# The expected result should transform it into a depolarizing channel."
   ]
  },
  {
   "cell_type": "code",
   "execution_count": 4,
   "id": "b4899d34",
   "metadata": {},
   "outputs": [],
   "source": [
    "noise_channel = qml.AmplitudeDamping\n",
    "gamma = 0.15\n",
    "wires = 1"
   ]
  },
  {
   "cell_type": "code",
   "execution_count": null,
   "id": "c1e496b6",
   "metadata": {},
   "outputs": [],
   "source": [
    "# We measured the Pauli X, Y, and Z expectation values on Qubit 1 after applying the unitary 2-design.\n",
    "# To validate the depolarizing channel transformation:\n",
    "# (1) Check if all three values differ from their ideal expectations by the same coefficient p.\n",
    "# (2) This uniform suppression confirms the amplitude damping channel has been converted to a depolarizing channel."
   ]
  },
  {
   "cell_type": "code",
   "execution_count": 5,
   "id": "cf667e6c",
   "metadata": {},
   "outputs": [
    {
     "name": "stdout",
     "output_type": "stream",
     "text": [
      "0.8105981699517519\n"
     ]
    }
   ],
   "source": [
    "e0_z = u2d.u2desgin(dev, measurements_str,\n",
    "                            noise_channel, gamma, wires,\n",
    "                            test_cir0)\n",
    "print(e0_z)"
   ]
  },
  {
   "cell_type": "code",
   "execution_count": 6,
   "id": "fb245abb",
   "metadata": {},
   "outputs": [],
   "source": [
    "measurements_str = \"IY\""
   ]
  },
  {
   "cell_type": "code",
   "execution_count": 7,
   "id": "a5367f62",
   "metadata": {},
   "outputs": [
    {
     "name": "stdout",
     "output_type": "stream",
     "text": [
      "-0.2855088357064005\n"
     ]
    }
   ],
   "source": [
    "e0_y = u2d.u2desgin(dev, measurements_str,\n",
    "                            noise_channel, gamma, wires,\n",
    "                            test_cir0)\n",
    "print(e0_y)"
   ]
  },
  {
   "cell_type": "code",
   "execution_count": 8,
   "id": "f547d338",
   "metadata": {},
   "outputs": [],
   "source": [
    "measurements_str = \"IX\""
   ]
  },
  {
   "cell_type": "code",
   "execution_count": 9,
   "id": "65a42c6e",
   "metadata": {},
   "outputs": [
    {
     "name": "stdout",
     "output_type": "stream",
     "text": [
      "0.2603166703842725\n"
     ]
    }
   ],
   "source": [
    "e0_x = u2d.u2desgin(dev, measurements_str,\n",
    "                            noise_channel, gamma, wires,\n",
    "                            test_cir0)\n",
    "print(e0_x)"
   ]
  },
  {
   "cell_type": "code",
   "execution_count": 10,
   "id": "37401274",
   "metadata": {},
   "outputs": [
    {
     "name": "stdout",
     "output_type": "stream",
     "text": [
      "0.9027010963754599\n",
      "-0.31794932257543734\n",
      "0.28989473757963063\n"
     ]
    }
   ],
   "source": [
    "@qml.qnode(dev)\n",
    "def test_cir2_ideal_z():\n",
    "    qml.RX(0.4, wires=1)\n",
    "    qml.RY(0.2, wires=1)\n",
    "    qml.RZ(0.3, wires=1)\n",
    "    return qml.expval(qml.PauliZ(1))\n",
    "\n",
    "@qml.qnode(dev)\n",
    "def test_cir2_ideal_y():\n",
    "    qml.RX(0.4, wires=1)\n",
    "    qml.RY(0.2, wires=1)\n",
    "    qml.RZ(0.3, wires=1)\n",
    "    return qml.expval(qml.PauliY(1))\n",
    "\n",
    "@qml.qnode(dev)\n",
    "def test_cir2_ideal_x():\n",
    "    qml.RX(0.4, wires=1)\n",
    "    qml.RY(0.2, wires=1)\n",
    "    qml.RZ(0.3, wires=1)\n",
    "    return qml.expval(qml.PauliX(1))\n",
    "\n",
    "print(test_cir2_ideal_z())\n",
    "print(test_cir2_ideal_y())\n",
    "print(test_cir2_ideal_x())"
   ]
  },
  {
   "cell_type": "code",
   "execution_count": 11,
   "id": "a7f24aec",
   "metadata": {},
   "outputs": [
    {
     "name": "stdout",
     "output_type": "stream",
     "text": [
      "0.8979696304861918\n",
      "0.8979696304861919\n",
      "0.8979696304861918\n"
     ]
    }
   ],
   "source": [
    "print(0.8105981699517519 / 0.9027010963754599)\n",
    "print(0.2855088357064005 / 0.31794932257543734)\n",
    "print(0.2603166703842725 / 0.28989473757963063)"
   ]
  },
  {
   "cell_type": "code",
   "execution_count": null,
   "id": "5fc783e3",
   "metadata": {},
   "outputs": [],
   "source": [
    "# Success!\n",
    "# The uniform scaling of X, Y, Z deviations proves our unitary 2-design correctly twists the channel into a depolarizing one."
   ]
  }
 ],
 "metadata": {
  "kernelspec": {
   "display_name": "Python 3 (ipykernel)",
   "language": "python",
   "name": "python3"
  },
  "language_info": {
   "codemirror_mode": {
    "name": "ipython",
    "version": 3
   },
   "file_extension": ".py",
   "mimetype": "text/x-python",
   "name": "python",
   "nbconvert_exporter": "python",
   "pygments_lexer": "ipython3",
   "version": "3.7.16"
  }
 },
 "nbformat": 4,
 "nbformat_minor": 5
}
